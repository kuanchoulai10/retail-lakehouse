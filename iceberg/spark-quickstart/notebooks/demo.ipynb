{
 "cells": [
  {
   "cell_type": "code",
   "execution_count": 3,
   "id": "23344e02-892f-4d2b-8d7f-515b002925b3",
   "metadata": {},
   "outputs": [
    {
     "name": "stderr",
     "output_type": "stream",
     "text": [
      "                                                                                "
     ]
    }
   ],
   "source": [
    "from pyspark.sql.types import DoubleType, FloatType, LongType, StructType,StructField, StringType\n",
    "schema = StructType([\n",
    "  StructField(\"vendor_id\", LongType(), True),\n",
    "  StructField(\"trip_id\", LongType(), True),\n",
    "  StructField(\"trip_distance\", FloatType(), True),\n",
    "  StructField(\"fare_amount\", DoubleType(), True),\n",
    "  StructField(\"store_and_fwd_flag\", StringType(), True)\n",
    "])\n",
    "\n",
    "df = spark.createDataFrame([], schema)\n",
    "df.writeTo(\"demo.nyc.taxis\").create()"
   ]
  },
  {
   "cell_type": "code",
   "execution_count": 4,
   "id": "756e5f75-22f9-4b69-a856-1bb7283f4abc",
   "metadata": {},
   "outputs": [
    {
     "name": "stderr",
     "output_type": "stream",
     "text": [
      "                                                                                "
     ]
    }
   ],
   "source": [
    "schema = spark.table(\"demo.nyc.taxis\").schema\n",
    "data = [\n",
    "    (1, 1000371, 1.8, 15.32, \"N\"),\n",
    "    (2, 1000372, 2.5, 22.15, \"N\"),\n",
    "    (2, 1000373, 0.9, 9.01, \"N\"),\n",
    "    (1, 1000374, 8.4, 42.13, \"Y\")\n",
    "  ]\n",
    "df = spark.createDataFrame(data, schema)\n",
    "df.writeTo(\"demo.nyc.taxis\").append()"
   ]
  },
  {
   "cell_type": "code",
   "execution_count": 5,
   "id": "8edcc4a0-d064-4bbe-8cf7-ae6cb07c7261",
   "metadata": {},
   "outputs": [
    {
     "name": "stdout",
     "output_type": "stream",
     "text": [
      "+---------+-------+-------------+-----------+------------------+\n",
      "|vendor_id|trip_id|trip_distance|fare_amount|store_and_fwd_flag|\n",
      "+---------+-------+-------------+-----------+------------------+\n",
      "|        1|1000371|          1.8|      15.32|                 N|\n",
      "|        2|1000372|          2.5|      22.15|                 N|\n",
      "|        2|1000373|          0.9|       9.01|                 N|\n",
      "|        1|1000374|          8.4|      42.13|                 Y|\n",
      "+---------+-------+-------------+-----------+------------------+\n",
      "\n"
     ]
    }
   ],
   "source": [
    "df = spark.table(\"demo.nyc.taxis\").show()"
   ]
  },
  {
   "cell_type": "code",
   "execution_count": 24,
   "id": "b1f64821-0224-4175-b5dd-dfd259b22cef",
   "metadata": {},
   "outputs": [
    {
     "name": "stdout",
     "output_type": "stream",
     "text": [
      "spark.sql.catalog.demo.s3.endpoint = http://minio:9000\n",
      "spark.sql.catalogImplementation    = in-memory\n",
      "spark.sql.catalog.demo.warehouse   = s3://warehouse/wh/\n",
      "spark.sql.catalog.demo.io-impl     = org.apache.iceberg.aws.s3.S3FileIO\n",
      "spark.sql.extensions               = org.apache.iceberg.spark.extensions.IcebergSparkSessionExtensions\n",
      "spark.sql.catalog.demo.uri         = http://rest:8181\n",
      "spark.sql.catalog.demo.type        = rest\n",
      "spark.sql.catalog.demo             = org.apache.iceberg.spark.SparkCatalog\n",
      "spark.sql.defaultCatalog           = demo\n"
     ]
    }
   ],
   "source": [
    "for k, v in spark.sparkContext.getConf().getAll():\n",
    "    if \"catalog\" in k.lower() or \"extensions\" in k.lower():\n",
    "        print(f\"{k:<34} = {v}\")"
   ]
  },
  {
   "cell_type": "markdown",
   "id": "0d20c8ed-d76d-4442-b02d-dd1620fee3ae",
   "metadata": {},
   "source": [
    "Iceberg Catalog Configuration Breakdown\n",
    "\n",
    "- `spark.sql.catalogImplementation = in-memory`: 是一個 Spark 的傳統設定，用來指定 Spark SQL 的內建 catalog 是使用哪一種 metadata 儲存方式。這個設定跟你用的 Iceberg catalog（如 REST / Hive / Hadoop） 不一樣，它主要控制 Spark SQL 自己的預設行為，\n",
    "- `spark.sql.defaultCatalog = demo`: Makes `demo` the default catalog. You can then run SQL queries without prefixing the catalog name (e.g., `SELECT * FROM db.table`).\n",
    "- `spark.sql.catalog.demo = org.apache.iceberg.spark.SparkCatalog`: 指定使用哪一種 Iceberg catalog 實作。這裡用的是 SparkCatalog，即 Spark 的整合接口，supports a Hive Metastore or a Hadoop warehouse as a catalog。另個則是`org.apache.iceberg.spark.SparkSessionCatalog`: adds support for Iceberg tables to Spark's built-in catalog, and delegates to the built-in catalog for non-Iceberg tables(覆寫 Spark SQL 內建的 catalog, 會直接接管 Spark 預設命名空間)\n",
    "- `spark.sql.catalog.demo.type = rest`\n",
    "- `spark.sql.catalog.demo.uri = http://rest:8181`\n",
    "- `spark.sql.catalog.demo.io-impl = org.apache.iceberg.aws.s3.S3FileIO`\n",
    "- `spark.sql.catalog.demo.s3.endpoint = http://minio:9000`\n",
    "- `spark.sql.catalog.demo.warehouse = s3://warehouse/wh/`: Base path for the warehouse directory"
   ]
  },
  {
   "cell_type": "code",
   "execution_count": null,
   "id": "7f597839-4d03-40f6-ae99-810fe5d1258f",
   "metadata": {},
   "outputs": [],
   "source": []
  }
 ],
 "metadata": {
  "kernelspec": {
   "display_name": "Python 3 (ipykernel)",
   "language": "python",
   "name": "python3"
  },
  "language_info": {
   "codemirror_mode": {
    "name": "ipython",
    "version": 3
   },
   "file_extension": ".py",
   "mimetype": "text/x-python",
   "name": "python",
   "nbconvert_exporter": "python",
   "pygments_lexer": "ipython3",
   "version": "3.10.16"
  }
 },
 "nbformat": 4,
 "nbformat_minor": 5
}
