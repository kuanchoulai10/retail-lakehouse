{
 "cells": [
  {
   "cell_type": "markdown",
   "id": "1041ae6f",
   "metadata": {},
   "source": [
    "![iceberg-logo](https://www.apache.org/logos/res/iceberg/iceberg.png)"
   ]
  },
  {
   "cell_type": "markdown",
   "id": "247fb2ab",
   "metadata": {},
   "source": [
    "### [Integrated Audits: Streamlined Data Observability with Apache Iceberg](https://tabular.io/blog/integrated-audits/)"
   ]
  },
  {
   "cell_type": "code",
   "execution_count": 1,
   "id": "fd61c16f",
   "metadata": {},
   "outputs": [
    {
     "name": "stderr",
     "output_type": "stream",
     "text": [
      "25/06/21 04:34:30 WARN SparkSession: Using an existing Spark session; only runtime SQL configurations will take effect.\n"
     ]
    },
    {
     "data": {
      "text/html": [
       "\n",
       "            <div>\n",
       "                <p><b>SparkSession - in-memory</b></p>\n",
       "                \n",
       "        <div>\n",
       "            <p><b>SparkContext</b></p>\n",
       "\n",
       "            <p><a href=\"http://1ac96ad2acf7:4040\">Spark UI</a></p>\n",
       "\n",
       "            <dl>\n",
       "              <dt>Version</dt>\n",
       "                <dd><code>v3.5.5</code></dd>\n",
       "              <dt>Master</dt>\n",
       "                <dd><code>local[*]</code></dd>\n",
       "              <dt>AppName</dt>\n",
       "                <dd><code>PySparkShell</code></dd>\n",
       "            </dl>\n",
       "        </div>\n",
       "        \n",
       "            </div>\n",
       "        "
      ],
      "text/plain": [
       "<pyspark.sql.session.SparkSession at 0xffff9cd89900>"
      ]
     },
     "execution_count": 1,
     "metadata": {},
     "output_type": "execute_result"
    }
   ],
   "source": [
    "from pyspark.sql import SparkSession\n",
    "spark = SparkSession.builder.appName(\"Jupyter\").getOrCreate()\n",
    "\n",
    "spark"
   ]
  },
  {
   "cell_type": "markdown",
   "id": "747bee98",
   "metadata": {},
   "source": [
    "To be able to rerun the notebook several times, let's drop the `permits` table if it exists to start fresh."
   ]
  },
  {
   "cell_type": "code",
   "execution_count": 2,
   "id": "26245f7e",
   "metadata": {},
   "outputs": [
    {
     "data": {
      "text/html": [
       "<table>\n",
       "    <thead>\n",
       "        <tr>\n",
       "        </tr>\n",
       "    </thead>\n",
       "    <tbody>\n",
       "    </tbody>\n",
       "</table>"
      ],
      "text/plain": [
       "++\n",
       "||\n",
       "++\n",
       "++"
      ]
     },
     "execution_count": 2,
     "metadata": {},
     "output_type": "execute_result"
    }
   ],
   "source": [
    "%%sql\n",
    "\n",
    "CREATE DATABASE IF NOT EXISTS nyc"
   ]
  },
  {
   "cell_type": "code",
   "execution_count": 3,
   "id": "08a13fcc",
   "metadata": {},
   "outputs": [
    {
     "data": {
      "text/html": [
       "<table>\n",
       "    <thead>\n",
       "        <tr>\n",
       "        </tr>\n",
       "    </thead>\n",
       "    <tbody>\n",
       "    </tbody>\n",
       "</table>"
      ],
      "text/plain": [
       "++\n",
       "||\n",
       "++\n",
       "++"
      ]
     },
     "execution_count": 3,
     "metadata": {},
     "output_type": "execute_result"
    }
   ],
   "source": [
    "%%sql\n",
    "\n",
    "DROP TABLE IF EXISTS nyc.permits"
   ]
  },
  {
   "cell_type": "markdown",
   "id": "eead44c0",
   "metadata": {},
   "source": [
    "# Load NYC Film Permits Data"
   ]
  },
  {
   "cell_type": "markdown",
   "id": "6f9a9f41",
   "metadata": {},
   "source": [
    "For this demo, we will use the [New York City Film Permits dataset](https://data.cityofnewyork.us/City-Government/Film-Permits/tg4x-b46p) available as part of the NYC Open Data initiative. We're using a locally saved copy of a 1000 record sample, but feel free to download the entire dataset to use in this notebook!\n",
    "\n",
    "We'll save the sample dataset into an iceberg table called `permits`."
   ]
  },
  {
   "cell_type": "code",
   "execution_count": 4,
   "id": "e3cc669a",
   "metadata": {},
   "outputs": [
    {
     "name": "stderr",
     "output_type": "stream",
     "text": [
      "                                                                                "
     ]
    }
   ],
   "source": [
    "df = spark.read.option(\"inferSchema\",\"true\").option(\"multiline\",\"true\").json(\"/home/iceberg/data/nyc_film_permits.json\")\n",
    "df.write.saveAsTable(\"nyc.permits\")"
   ]
  },
  {
   "cell_type": "markdown",
   "id": "378cf187",
   "metadata": {},
   "source": [
    "Taking a quick peek at the data, you can see that there are a number of permits for different boroughs in New York."
   ]
  },
  {
   "cell_type": "code",
   "execution_count": 5,
   "id": "f3170161",
   "metadata": {},
   "outputs": [
    {
     "name": "stdout",
     "output_type": "stream",
     "text": [
      "+-------------+-----+\n",
      "|      borough|count|\n",
      "+-------------+-----+\n",
      "|       Queens|   96|\n",
      "|     Brooklyn|  378|\n",
      "|Staten Island|    1|\n",
      "|    Manhattan|  518|\n",
      "|        Bronx|    7|\n",
      "+-------------+-----+\n",
      "\n"
     ]
    }
   ],
   "source": [
    "spark.read \\\n",
    "    .format(\"iceberg\") \\\n",
    "    .load(\"nyc.permits\") \\\n",
    "    .groupBy(\"borough\") \\\n",
    "    .count() \\\n",
    "    .show()"
   ]
  },
  {
   "cell_type": "markdown",
   "id": "c85a71a2",
   "metadata": {},
   "source": [
    "# Generate an ID for an Integrated Audit Session"
   ]
  },
  {
   "cell_type": "markdown",
   "id": "182510da",
   "metadata": {},
   "source": [
    "An integrated audit session is a single cadence of:\n",
    "1. Staging changes to a table\n",
    "2. Auditing the staged changes\n",
    "3. Committing the changes (optional)\n",
    "\n",
    "Each of these sessions must be represented with an ID. You can use any convention that makes sense in your environment but in this demo we'll simply use a UUID."
   ]
  },
  {
   "cell_type": "code",
   "execution_count": 6,
   "id": "0e39d3d1",
   "metadata": {},
   "outputs": [
    {
     "data": {
      "text/plain": [
       "'92d9d9eb680740468822d1ea99068c8a'"
      ]
     },
     "execution_count": 6,
     "metadata": {},
     "output_type": "execute_result"
    }
   ],
   "source": [
    "import uuid\n",
    "ia_session_id = uuid.uuid4().hex\n",
    "ia_session_id"
   ]
  },
  {
   "cell_type": "markdown",
   "id": "fa31a9ea",
   "metadata": {},
   "source": [
    "# The Setup"
   ]
  },
  {
   "cell_type": "markdown",
   "id": "d845953b",
   "metadata": {},
   "source": [
    "Tables by default are not configured to allow integrated audits, therefore the first step is enabling this by setting the `write.wap.enabled` table metadata property to `true`"
   ]
  },
  {
   "cell_type": "code",
   "execution_count": 7,
   "id": "bf29df0b",
   "metadata": {},
   "outputs": [
    {
     "data": {
      "text/html": [
       "<table>\n",
       "    <thead>\n",
       "        <tr>\n",
       "        </tr>\n",
       "    </thead>\n",
       "    <tbody>\n",
       "    </tbody>\n",
       "</table>"
      ],
      "text/plain": [
       "++\n",
       "||\n",
       "++\n",
       "++"
      ]
     },
     "execution_count": 7,
     "metadata": {},
     "output_type": "execute_result"
    }
   ],
   "source": [
    "%%sql\n",
    "\n",
    "ALTER TABLE nyc.permits\n",
    "SET TBLPROPERTIES (\n",
    "    'write.wap.enabled'='true'\n",
    ")"
   ]
  },
  {
   "cell_type": "markdown",
   "id": "1dc5ad69",
   "metadata": {},
   "source": [
    "Next, the `spark.wap.id` property of your Spark session configuration must be set to the integrated audit session ID."
   ]
  },
  {
   "cell_type": "code",
   "execution_count": 8,
   "id": "65bc4280",
   "metadata": {},
   "outputs": [],
   "source": [
    "spark.conf.set('spark.wap.id', ia_session_id)"
   ]
  },
  {
   "cell_type": "markdown",
   "id": "3a34995b",
   "metadata": {},
   "source": [
    "With a `spark.wap.id` value set, you can now safely write **directly to the permits table**--don't worry, these changes will only be staged, not committed!"
   ]
  },
  {
   "cell_type": "markdown",
   "id": "437088f6",
   "metadata": {},
   "source": [
    "# Staging The Changes"
   ]
  },
  {
   "cell_type": "markdown",
   "id": "1c9fa6e9",
   "metadata": {},
   "source": [
    "To stage the changes, you simply write directly to the `permits` table. This is awesome in situations where you're working with a large and complex data ingestion pipeline.\n",
    "Instead of including hard-coded logic in your pipeline to switch between a sort of \"audit-mode\" as opposed to \"production-mode\", with integrated audits you simple run your\n",
    "production code!\n",
    "\n",
    "For this demo, let's use a simple query that deletes all records for film permits in the manhattan borough."
   ]
  },
  {
   "cell_type": "code",
   "execution_count": 9,
   "id": "14843243",
   "metadata": {},
   "outputs": [
    {
     "data": {
      "text/html": [
       "<table>\n",
       "    <thead>\n",
       "        <tr>\n",
       "        </tr>\n",
       "    </thead>\n",
       "    <tbody>\n",
       "    </tbody>\n",
       "</table>"
      ],
      "text/plain": [
       "++\n",
       "||\n",
       "++\n",
       "++"
      ]
     },
     "execution_count": 9,
     "metadata": {},
     "output_type": "execute_result"
    }
   ],
   "source": [
    "%%sql\n",
    "\n",
    "DELETE FROM nyc.permits\n",
    "WHERE borough='Manhattan'"
   ]
  },
  {
   "cell_type": "markdown",
   "id": "56cc8478",
   "metadata": {},
   "source": [
    "As described, even though the query was executed against the production table, these changes are only staged and not committed since we are within an integrated audit session. Let's confirm this by verifying that a count by borough still includes the Manhattan records."
   ]
  },
  {
   "cell_type": "code",
   "execution_count": 10,
   "id": "95df15e9",
   "metadata": {},
   "outputs": [
    {
     "data": {
      "text/html": [
       "<table>\n",
       "    <thead>\n",
       "        <tr>\n",
       "            <th>borough</th>\n",
       "            <th>permit_cnt</th>\n",
       "        </tr>\n",
       "    </thead>\n",
       "    <tbody>\n",
       "        <tr>\n",
       "            <td>Queens</td>\n",
       "            <td>96</td>\n",
       "        </tr>\n",
       "        <tr>\n",
       "            <td>Brooklyn</td>\n",
       "            <td>378</td>\n",
       "        </tr>\n",
       "        <tr>\n",
       "            <td>Staten Island</td>\n",
       "            <td>1</td>\n",
       "        </tr>\n",
       "        <tr>\n",
       "            <td>Manhattan</td>\n",
       "            <td>518</td>\n",
       "        </tr>\n",
       "        <tr>\n",
       "            <td>Bronx</td>\n",
       "            <td>7</td>\n",
       "        </tr>\n",
       "    </tbody>\n",
       "</table>"
      ],
      "text/plain": [
       "+---------------+------------+\n",
       "|       borough | permit_cnt |\n",
       "+---------------+------------+\n",
       "|        Queens |         96 |\n",
       "|      Brooklyn |        378 |\n",
       "| Staten Island |          1 |\n",
       "|     Manhattan |        518 |\n",
       "|         Bronx |          7 |\n",
       "+---------------+------------+"
      ]
     },
     "execution_count": 10,
     "metadata": {},
     "output_type": "execute_result"
    }
   ],
   "source": [
    "%%sql\n",
    "\n",
    "SELECT borough, count(*) permit_cnt\n",
    "FROM nyc.permits\n",
    "GROUP BY borough"
   ]
  },
  {
   "cell_type": "markdown",
   "id": "3fe2c863",
   "metadata": {},
   "source": [
    "# The Audit"
   ]
  },
  {
   "cell_type": "markdown",
   "id": "a7935b0d",
   "metadata": {},
   "source": [
    "Once the changes for this session are staged, you can perform all of your audits to validate the data. The first step is to retrieve the snapshot ID generated by the changes and tagged with this integrated audit session ID."
   ]
  },
  {
   "cell_type": "code",
   "execution_count": 14,
   "id": "f120d243-5cf9-49ef-8854-4cfd043c7e71",
   "metadata": {},
   "outputs": [
    {
     "data": {
      "text/html": [
       "<table>\n",
       "    <thead>\n",
       "        <tr>\n",
       "            <th>made_current_at</th>\n",
       "            <th>snapshot_id</th>\n",
       "            <th>parent_id</th>\n",
       "            <th>is_current_ancestor</th>\n",
       "        </tr>\n",
       "    </thead>\n",
       "    <tbody>\n",
       "        <tr>\n",
       "            <td>2025-06-21 04:36:21.362000</td>\n",
       "            <td>2044767572491260316</td>\n",
       "            <td>None</td>\n",
       "            <td>True</td>\n",
       "        </tr>\n",
       "    </tbody>\n",
       "</table>"
      ],
      "text/plain": [
       "+----------------------------+---------------------+-----------+---------------------+\n",
       "|            made_current_at |         snapshot_id | parent_id | is_current_ancestor |\n",
       "+----------------------------+---------------------+-----------+---------------------+\n",
       "| 2025-06-21 04:36:21.362000 | 2044767572491260316 |      None |                True |\n",
       "+----------------------------+---------------------+-----------+---------------------+"
      ]
     },
     "execution_count": 14,
     "metadata": {},
     "output_type": "execute_result"
    }
   ],
   "source": [
    "%%sql\n",
    "\n",
    "select\n",
    "  *\n",
    "from nyc.permits.history"
   ]
  },
  {
   "cell_type": "code",
   "execution_count": 11,
   "id": "95d71430",
   "metadata": {},
   "outputs": [],
   "source": [
    "query = f\"\"\"\n",
    "SELECT\n",
    "  snapshot_id\n",
    "FROM nyc.permits.snapshots\n",
    "WHERE summary['wap.id'] = '{ia_session_id}'\n",
    "\"\"\"\n",
    "\n",
    "ia_session_snapshot = spark.sql(query).head().snapshot_id"
   ]
  },
  {
   "cell_type": "code",
   "execution_count": 12,
   "id": "1035b246",
   "metadata": {},
   "outputs": [
    {
     "data": {
      "text/plain": [
       "2689398741546157644"
      ]
     },
     "execution_count": 12,
     "metadata": {},
     "output_type": "execute_result"
    }
   ],
   "source": [
    "ia_session_snapshot"
   ]
  },
  {
   "cell_type": "markdown",
   "id": "4c602800",
   "metadata": {},
   "source": [
    "This snapshot includes the staged (but not commited) changes to your production table. Once you have this snapshot ID, you can use Iceberg's Time Travel feature to query it!"
   ]
  },
  {
   "cell_type": "code",
   "execution_count": 13,
   "id": "c95130e9",
   "metadata": {},
   "outputs": [
    {
     "name": "stdout",
     "output_type": "stream",
     "text": [
      "+-------------+-----+\n",
      "|      borough|count|\n",
      "+-------------+-----+\n",
      "|       Queens|   96|\n",
      "|     Brooklyn|  378|\n",
      "|Staten Island|    1|\n",
      "|        Bronx|    7|\n",
      "+-------------+-----+\n",
      "\n"
     ]
    }
   ],
   "source": [
    "spark.read \\\n",
    "    .option(\"snapshot-id\", ia_session_snapshot) \\\n",
    "    .format(\"iceberg\") \\\n",
    "    .load(\"nyc.permits\") \\\n",
    "    .groupBy(\"borough\") \\\n",
    "    .count() \\\n",
    "    .show()"
   ]
  },
  {
   "cell_type": "markdown",
   "id": "0cab3813",
   "metadata": {},
   "source": [
    "At this point, you can use any auditing tool or technique to validate your changes. For this demo, we'll do a simple audit that confirms that the only remaining boroughs are Queens, Brooklyn, Bronx, and Staten Island. If either borough is missing or any additional boroughs are found, we'll raise an exception."
   ]
  },
  {
   "cell_type": "code",
   "execution_count": 15,
   "id": "82af5de3",
   "metadata": {},
   "outputs": [],
   "source": [
    "expected_boroughs = {\"Queens\", \"Brooklyn\", \"Bronx\", \"Staten Island\"}\n",
    "distinct_boroughs = spark.read \\\n",
    "    .option(\"snapshot-id\", ia_session_snapshot) \\\n",
    "    .format(\"iceberg\") \\\n",
    "    .load(\"nyc.permits\") \\\n",
    "    .select(\"borough\") \\\n",
    "    .distinct() \\\n",
    "    .toLocalIterator()\n",
    "boroughs = {row[0] for row in distinct_boroughs}"
   ]
  },
  {
   "cell_type": "code",
   "execution_count": 16,
   "id": "a4fad7c2",
   "metadata": {},
   "outputs": [],
   "source": [
    "# Since `boroughs` and `required_boroughs` are both sets (array of distinct items),\n",
    "# we can confirm that they match by checking that the lengths of the sets are equal\n",
    "# to eachother as well as to the union of both sets.\n",
    "if len(boroughs) != len(expected_boroughs) != len(set.union(boroughs, expected_boroughs)):\n",
    "    raise ValueError(f\"Audit failed, borough set does not match expected boroughs: {boroughs} != {expected_boroughs}\")"
   ]
  },
  {
   "cell_type": "markdown",
   "id": "b1032255",
   "metadata": {},
   "source": [
    "If the above check does not fail, we can go ahead and commit our staged data to publish our changes!"
   ]
  },
  {
   "cell_type": "markdown",
   "id": "2079435b",
   "metadata": {},
   "source": [
    "# The Publish"
   ]
  },
  {
   "cell_type": "markdown",
   "id": "88d59f50",
   "metadata": {},
   "source": [
    "After the audits are completed, publishing the data is as simple as running a `cherrypick_snapshot` stored procedure."
   ]
  },
  {
   "cell_type": "code",
   "execution_count": 17,
   "id": "056236ba",
   "metadata": {},
   "outputs": [
    {
     "data": {
      "text/html": [
       "<table>\n",
       "    <thead>\n",
       "        <tr>\n",
       "            <th>source_snapshot_id</th>\n",
       "            <th>current_snapshot_id</th>\n",
       "        </tr>\n",
       "    </thead>\n",
       "    <tbody>\n",
       "        <tr>\n",
       "            <td>2689398741546157644</td>\n",
       "            <td>2689398741546157644</td>\n",
       "        </tr>\n",
       "    </tbody>\n",
       "</table>"
      ],
      "text/plain": [
       "+---------------------+---------------------+\n",
       "|  source_snapshot_id | current_snapshot_id |\n",
       "+---------------------+---------------------+\n",
       "| 2689398741546157644 | 2689398741546157644 |\n",
       "+---------------------+---------------------+"
      ]
     },
     "execution_count": 17,
     "metadata": {},
     "output_type": "execute_result"
    }
   ],
   "source": [
    "publish_query = f\"CALL system.cherrypick_snapshot('nyc.permits', {ia_session_snapshot})\"\n",
    "%sql $publish_query"
   ]
  },
  {
   "cell_type": "markdown",
   "id": "17b868e8",
   "metadata": {},
   "source": [
    "That's it! Publishing the changes from this integrated audit session is a simple metadata-only operation that instantly makes the changes live for all downstream consumers querying the `permits` table! Query results will now include the commit that removed all Manhattan records."
   ]
  },
  {
   "cell_type": "code",
   "execution_count": 18,
   "id": "930682ce",
   "metadata": {},
   "outputs": [
    {
     "name": "stdout",
     "output_type": "stream",
     "text": [
      "+-------------+-----+\n",
      "|      borough|count|\n",
      "+-------------+-----+\n",
      "|       Queens|   96|\n",
      "|     Brooklyn|  378|\n",
      "|Staten Island|    1|\n",
      "|        Bronx|    7|\n",
      "+-------------+-----+\n",
      "\n"
     ]
    }
   ],
   "source": [
    "spark.read \\\n",
    "    .format(\"iceberg\") \\\n",
    "    .load(\"nyc.permits\") \\\n",
    "    .groupBy(\"borough\") \\\n",
    "    .count() \\\n",
    "    .show()"
   ]
  },
  {
   "cell_type": "code",
   "execution_count": 19,
   "id": "42e96e01-deeb-4bb5-927f-3107ffd8a6aa",
   "metadata": {},
   "outputs": [
    {
     "data": {
      "text/html": [
       "<table>\n",
       "    <thead>\n",
       "        <tr>\n",
       "            <th>made_current_at</th>\n",
       "            <th>snapshot_id</th>\n",
       "            <th>parent_id</th>\n",
       "            <th>is_current_ancestor</th>\n",
       "        </tr>\n",
       "    </thead>\n",
       "    <tbody>\n",
       "        <tr>\n",
       "            <td>2025-06-21 04:36:21.362000</td>\n",
       "            <td>2044767572491260316</td>\n",
       "            <td>None</td>\n",
       "            <td>True</td>\n",
       "        </tr>\n",
       "        <tr>\n",
       "            <td>2025-06-21 05:08:54.301000</td>\n",
       "            <td>2689398741546157644</td>\n",
       "            <td>2044767572491260316</td>\n",
       "            <td>True</td>\n",
       "        </tr>\n",
       "    </tbody>\n",
       "</table>"
      ],
      "text/plain": [
       "+----------------------------+---------------------+---------------------+---------------------+\n",
       "|            made_current_at |         snapshot_id |           parent_id | is_current_ancestor |\n",
       "+----------------------------+---------------------+---------------------+---------------------+\n",
       "| 2025-06-21 04:36:21.362000 | 2044767572491260316 |                None |                True |\n",
       "| 2025-06-21 05:08:54.301000 | 2689398741546157644 | 2044767572491260316 |                True |\n",
       "+----------------------------+---------------------+---------------------+---------------------+"
      ]
     },
     "execution_count": 19,
     "metadata": {},
     "output_type": "execute_result"
    }
   ],
   "source": [
    "%%sql\n",
    "\n",
    "select\n",
    "  *\n",
    "from nyc.permits.history"
   ]
  },
  {
   "cell_type": "markdown",
   "id": "d941b990",
   "metadata": {},
   "source": [
    "# What Happens When The Audits Fail?"
   ]
  },
  {
   "cell_type": "markdown",
   "id": "f6b4084e",
   "metadata": {},
   "source": [
    "What about when your audits fail? What happens to the snapshots generated? How about the data and metadata files?\n",
    "\n",
    "One of the best parts of Iceberg's integrated audits is that the cleanup of \"*staged-yet-not-committed-data*\" is part of the normal snapshot cleanup process of a typical Iceberg warehouse. To be more specific, let's say a daily snapshot expiration is performed on the data warehouse (using the [expire_snapshots](https://iceberg.apache.org/docs/latest/spark-procedures/#expire_snapshots) procedure) and all snapshots older than 7 days are expired. That means once your staged snapshot reaches 7 days in age, it will be expired.\n",
    "\n",
    "Additionally, since the changes were never committed, the underlying data files for the snapshot will be removed since they're not referenced by any other snapshots in the linear history of the table.\n",
    "\n",
    "Let's see this in action. First, start a new integrated audit session and stage a commit by inserting a single record."
   ]
  },
  {
   "cell_type": "code",
   "execution_count": 20,
   "id": "25eff1ef",
   "metadata": {},
   "outputs": [
    {
     "data": {
      "text/plain": [
       "'1782105f3a254b4d9858087ec76f5258'"
      ]
     },
     "execution_count": 20,
     "metadata": {},
     "output_type": "execute_result"
    }
   ],
   "source": [
    "ia_session_id = uuid.uuid4().hex\n",
    "ia_session_id"
   ]
  },
  {
   "cell_type": "code",
   "execution_count": 21,
   "id": "4726b169",
   "metadata": {},
   "outputs": [],
   "source": [
    "spark.conf.set('spark.wap.id', ia_session_id)"
   ]
  },
  {
   "cell_type": "code",
   "execution_count": 22,
   "id": "31bf19f1",
   "metadata": {},
   "outputs": [
    {
     "data": {
      "text/html": [
       "<table>\n",
       "    <thead>\n",
       "        <tr>\n",
       "        </tr>\n",
       "    </thead>\n",
       "    <tbody>\n",
       "    </tbody>\n",
       "</table>"
      ],
      "text/plain": [
       "++\n",
       "||\n",
       "++\n",
       "++"
      ]
     },
     "execution_count": 22,
     "metadata": {},
     "output_type": "execute_result"
    }
   ],
   "source": [
    "%%sql\n",
    "\n",
    "INSERT INTO nyc.permits\n",
    "VALUES (\n",
    "    'Hoboken',\n",
    "    'Television',\n",
    "    '1',\n",
    "    'United States of America',\n",
    "    '2021-11-24T23:00:00.000',\n",
    "    '2021-11-23T09:38:17.000',\n",
    "    'Mayor\\'s Office of Film, Theatre & Broadcasting',\n",
    "    '613322',\n",
    "    'Shooting Permit',\n",
    "    'WASHINGTON STREET',\n",
    "    '100',\n",
    "    '2021-11-24T07:00:00.000',\n",
    "    'Episodic series',\n",
    "    '07030'\n",
    ")"
   ]
  },
  {
   "cell_type": "markdown",
   "id": "aa29184b",
   "metadata": {},
   "source": [
    "Next, let's identify the snapshot that was tagged with the integrated audit session ID."
   ]
  },
  {
   "cell_type": "code",
   "execution_count": 23,
   "id": "682a5f52",
   "metadata": {},
   "outputs": [
    {
     "data": {
      "text/html": [
       "<table>\n",
       "    <thead>\n",
       "        <tr>\n",
       "            <th>snapshot_id</th>\n",
       "        </tr>\n",
       "    </thead>\n",
       "    <tbody>\n",
       "        <tr>\n",
       "            <td>2044767572491260316</td>\n",
       "        </tr>\n",
       "        <tr>\n",
       "            <td>2689398741546157644</td>\n",
       "        </tr>\n",
       "        <tr>\n",
       "            <td>7408523516967726811</td>\n",
       "        </tr>\n",
       "    </tbody>\n",
       "</table>"
      ],
      "text/plain": [
       "+---------------------+\n",
       "|         snapshot_id |\n",
       "+---------------------+\n",
       "| 2044767572491260316 |\n",
       "| 2689398741546157644 |\n",
       "| 7408523516967726811 |\n",
       "+---------------------+"
      ]
     },
     "execution_count": 23,
     "metadata": {},
     "output_type": "execute_result"
    }
   ],
   "source": [
    "%%sql\n",
    "\n",
    "SELECT snapshot_id\n",
    "FROM nyc.permits.snapshots"
   ]
  },
  {
   "cell_type": "code",
   "execution_count": 24,
   "id": "ef4dd148",
   "metadata": {},
   "outputs": [],
   "source": [
    "query = f\"\"\"\n",
    "SELECT snapshot_id\n",
    "FROM nyc.permits.snapshots\n",
    "WHERE summary['wap.id'] = '{ia_session_id}'\n",
    "\"\"\"\n",
    "\n",
    "ia_session_snapshot = spark.sql(query).head().snapshot_id"
   ]
  },
  {
   "cell_type": "code",
   "execution_count": 25,
   "id": "62f52c08",
   "metadata": {},
   "outputs": [
    {
     "data": {
      "text/plain": [
       "7408523516967726811"
      ]
     },
     "execution_count": 25,
     "metadata": {},
     "output_type": "execute_result"
    }
   ],
   "source": [
    "ia_session_snapshot"
   ]
  },
  {
   "cell_type": "markdown",
   "id": "60561dff",
   "metadata": {},
   "source": [
    "A quick check of the history table shows that this snapshot is not included as part of the current history of the table since it has not been published yet."
   ]
  },
  {
   "cell_type": "code",
   "execution_count": 26,
   "id": "ec96a9c0",
   "metadata": {},
   "outputs": [
    {
     "data": {
      "text/html": [
       "<table>\n",
       "    <thead>\n",
       "        <tr>\n",
       "            <th>made_current_at</th>\n",
       "            <th>snapshot_id</th>\n",
       "            <th>parent_id</th>\n",
       "            <th>is_current_ancestor</th>\n",
       "        </tr>\n",
       "    </thead>\n",
       "    <tbody>\n",
       "        <tr>\n",
       "            <td>2025-06-21 04:36:21.362000</td>\n",
       "            <td>2044767572491260316</td>\n",
       "            <td>None</td>\n",
       "            <td>True</td>\n",
       "        </tr>\n",
       "        <tr>\n",
       "            <td>2025-06-21 05:08:54.301000</td>\n",
       "            <td>2689398741546157644</td>\n",
       "            <td>2044767572491260316</td>\n",
       "            <td>True</td>\n",
       "        </tr>\n",
       "    </tbody>\n",
       "</table>"
      ],
      "text/plain": [
       "+----------------------------+---------------------+---------------------+---------------------+\n",
       "|            made_current_at |         snapshot_id |           parent_id | is_current_ancestor |\n",
       "+----------------------------+---------------------+---------------------+---------------------+\n",
       "| 2025-06-21 04:36:21.362000 | 2044767572491260316 |                None |                True |\n",
       "| 2025-06-21 05:08:54.301000 | 2689398741546157644 | 2044767572491260316 |                True |\n",
       "+----------------------------+---------------------+---------------------+---------------------+"
      ]
     },
     "execution_count": 26,
     "metadata": {},
     "output_type": "execute_result"
    }
   ],
   "source": [
    "%%sql\n",
    "\n",
    "SELECT *\n",
    "FROM nyc.permits.history"
   ]
  },
  {
   "cell_type": "markdown",
   "id": "6ec54f3a",
   "metadata": {},
   "source": [
    "In a scenario where the audits fail and this change is not published, the `expire_snapshots` procedure will clean up the snapshot **and** the data files. Let's demonstrate this by calling the `expire_snapshots` procedure for all snapshots older than the current timestamp."
   ]
  },
  {
   "cell_type": "code",
   "execution_count": 27,
   "id": "4727c61e",
   "metadata": {},
   "outputs": [
    {
     "name": "stderr",
     "output_type": "stream",
     "text": [
      "                                                                                "
     ]
    },
    {
     "data": {
      "text/html": [
       "<table>\n",
       "    <thead>\n",
       "        <tr>\n",
       "            <th>deleted_data_files_count</th>\n",
       "            <th>deleted_position_delete_files_count</th>\n",
       "            <th>deleted_equality_delete_files_count</th>\n",
       "            <th>deleted_manifest_files_count</th>\n",
       "            <th>deleted_manifest_lists_count</th>\n",
       "            <th>deleted_statistics_files_count</th>\n",
       "        </tr>\n",
       "    </thead>\n",
       "    <tbody>\n",
       "        <tr>\n",
       "            <td>1</td>\n",
       "            <td>0</td>\n",
       "            <td>0</td>\n",
       "            <td>1</td>\n",
       "            <td>1</td>\n",
       "            <td>0</td>\n",
       "        </tr>\n",
       "    </tbody>\n",
       "</table>"
      ],
      "text/plain": [
       "+--------------------------+-------------------------------------+-------------------------------------+------------------------------+------------------------------+--------------------------------+\n",
       "| deleted_data_files_count | deleted_position_delete_files_count | deleted_equality_delete_files_count | deleted_manifest_files_count | deleted_manifest_lists_count | deleted_statistics_files_count |\n",
       "+--------------------------+-------------------------------------+-------------------------------------+------------------------------+------------------------------+--------------------------------+\n",
       "|                        1 |                                   0 |                                   0 |                            1 |                            1 |                              0 |\n",
       "+--------------------------+-------------------------------------+-------------------------------------+------------------------------+------------------------------+--------------------------------+"
      ]
     },
     "execution_count": 27,
     "metadata": {},
     "output_type": "execute_result"
    }
   ],
   "source": [
    "import time\n",
    "%sql CALL system.expire_snapshots('nyc.permits', {round(time.time() * 1000)}, 100)"
   ]
  },
  {
   "cell_type": "markdown",
   "id": "c8e47351",
   "metadata": {},
   "source": [
    "The output from the `expire_snapshots` procedure shows that a data file, a manifest file, and a manifest list file were deleted. Furthermore, the snapshot no longer appears in the permit table's snapshots table."
   ]
  },
  {
   "cell_type": "code",
   "execution_count": 28,
   "id": "53f53072",
   "metadata": {},
   "outputs": [
    {
     "data": {
      "text/html": [
       "<table>\n",
       "    <thead>\n",
       "        <tr>\n",
       "            <th>committed_at</th>\n",
       "            <th>snapshot_id</th>\n",
       "            <th>parent_id</th>\n",
       "            <th>operation</th>\n",
       "            <th>manifest_list</th>\n",
       "            <th>summary</th>\n",
       "        </tr>\n",
       "    </thead>\n",
       "    <tbody>\n",
       "        <tr>\n",
       "            <td>2025-06-21 04:36:21.362000</td>\n",
       "            <td>2044767572491260316</td>\n",
       "            <td>None</td>\n",
       "            <td>append</td>\n",
       "            <td>s3://warehouse/nyc/permits/metadata/snap-2044767572491260316-1-4cc87a9f-3242-46b1-a03a-7c45dc885f7f.avro</td>\n",
       "            <td>{&#x27;engine-version&#x27;: &#x27;3.5.5&#x27;, &#x27;added-data-files&#x27;: &#x27;1&#x27;, &#x27;total-equality-deletes&#x27;: &#x27;0&#x27;, &#x27;app-id&#x27;: &#x27;local-1750480469176&#x27;, &#x27;added-records&#x27;: &#x27;1000&#x27;, &#x27;total-records&#x27;: &#x27;1000&#x27;, &#x27;spark.app.id&#x27;: &#x27;local-1750480469176&#x27;, &#x27;changed-partition-count&#x27;: &#x27;1&#x27;, &#x27;engine-name&#x27;: &#x27;spark&#x27;, &#x27;total-position-deletes&#x27;: &#x27;0&#x27;, &#x27;added-files-size&#x27;: &#x27;49719&#x27;, &#x27;total-delete-files&#x27;: &#x27;0&#x27;, &#x27;iceberg-version&#x27;: &#x27;Apache Iceberg 1.8.1 (commit 9ce0fcf0af7becf25ad9fc996c3bad2afdcfd33d)&#x27;, &#x27;total-files-size&#x27;: &#x27;49719&#x27;, &#x27;total-data-files&#x27;: &#x27;1&#x27;}</td>\n",
       "        </tr>\n",
       "        <tr>\n",
       "            <td>2025-06-21 04:46:00.881000</td>\n",
       "            <td>2689398741546157644</td>\n",
       "            <td>2044767572491260316</td>\n",
       "            <td>overwrite</td>\n",
       "            <td>s3://warehouse/nyc/permits/metadata/snap-2689398741546157644-1-01b64de9-8295-4443-af60-b7dcb5ff1908.avro</td>\n",
       "            <td>{&#x27;engine-version&#x27;: &#x27;3.5.5&#x27;, &#x27;added-data-files&#x27;: &#x27;1&#x27;, &#x27;total-equality-deletes&#x27;: &#x27;0&#x27;, &#x27;app-id&#x27;: &#x27;local-1750480469176&#x27;, &#x27;added-records&#x27;: &#x27;482&#x27;, &#x27;deleted-data-files&#x27;: &#x27;1&#x27;, &#x27;deleted-records&#x27;: &#x27;1000&#x27;, &#x27;total-records&#x27;: &#x27;482&#x27;, &#x27;spark.app.id&#x27;: &#x27;local-1750480469176&#x27;, &#x27;removed-files-size&#x27;: &#x27;49719&#x27;, &#x27;changed-partition-count&#x27;: &#x27;1&#x27;, &#x27;engine-name&#x27;: &#x27;spark&#x27;, &#x27;wap.id&#x27;: &#x27;92d9d9eb680740468822d1ea99068c8a&#x27;, &#x27;total-position-deletes&#x27;: &#x27;0&#x27;, &#x27;added-files-size&#x27;: &#x27;26860&#x27;, &#x27;total-delete-files&#x27;: &#x27;0&#x27;, &#x27;iceberg-version&#x27;: &#x27;Apache Iceberg 1.8.1 (commit 9ce0fcf0af7becf25ad9fc996c3bad2afdcfd33d)&#x27;, &#x27;total-files-size&#x27;: &#x27;26860&#x27;, &#x27;total-data-files&#x27;: &#x27;1&#x27;}</td>\n",
       "        </tr>\n",
       "    </tbody>\n",
       "</table>"
      ],
      "text/plain": [
       "+----------------------------+---------------------+---------------------+-----------+----------------------------------------------------------------------------------------------------------+--------------------------------------------------------------------------------------------------------------------------------------------------------------------------------------------------------------------------------------------------------------------------------------------------------------------------------------------------------------------------------------------------------------------------------------------------------------------------------------------------------------------------------------------------------------------------------------------------------------------------------------------------+\n",
       "|               committed_at |         snapshot_id |           parent_id | operation |                                                                                            manifest_list |                                                                                                                                                                                                                                                                                                                                                                                                                                                                                                                                                                                                                                          summary |\n",
       "+----------------------------+---------------------+---------------------+-----------+----------------------------------------------------------------------------------------------------------+--------------------------------------------------------------------------------------------------------------------------------------------------------------------------------------------------------------------------------------------------------------------------------------------------------------------------------------------------------------------------------------------------------------------------------------------------------------------------------------------------------------------------------------------------------------------------------------------------------------------------------------------------+\n",
       "| 2025-06-21 04:36:21.362000 | 2044767572491260316 |                None |    append | s3://warehouse/nyc/permits/metadata/snap-2044767572491260316-1-4cc87a9f-3242-46b1-a03a-7c45dc885f7f.avro |                                                                                                                                  {'engine-version': '3.5.5', 'added-data-files': '1', 'total-equality-deletes': '0', 'app-id': 'local-1750480469176', 'added-records': '1000', 'total-records': '1000', 'spark.app.id': 'local-1750480469176', 'changed-partition-count': '1', 'engine-name': 'spark', 'total-position-deletes': '0', 'added-files-size': '49719', 'total-delete-files': '0', 'iceberg-version': 'Apache Iceberg 1.8.1 (commit 9ce0fcf0af7becf25ad9fc996c3bad2afdcfd33d)', 'total-files-size': '49719', 'total-data-files': '1'} |\n",
       "| 2025-06-21 04:46:00.881000 | 2689398741546157644 | 2044767572491260316 | overwrite | s3://warehouse/nyc/permits/metadata/snap-2689398741546157644-1-01b64de9-8295-4443-af60-b7dcb5ff1908.avro | {'engine-version': '3.5.5', 'added-data-files': '1', 'total-equality-deletes': '0', 'app-id': 'local-1750480469176', 'added-records': '482', 'deleted-data-files': '1', 'deleted-records': '1000', 'total-records': '482', 'spark.app.id': 'local-1750480469176', 'removed-files-size': '49719', 'changed-partition-count': '1', 'engine-name': 'spark', 'wap.id': '92d9d9eb680740468822d1ea99068c8a', 'total-position-deletes': '0', 'added-files-size': '26860', 'total-delete-files': '0', 'iceberg-version': 'Apache Iceberg 1.8.1 (commit 9ce0fcf0af7becf25ad9fc996c3bad2afdcfd33d)', 'total-files-size': '26860', 'total-data-files': '1'} |\n",
       "+----------------------------+---------------------+---------------------+-----------+----------------------------------------------------------------------------------------------------------+--------------------------------------------------------------------------------------------------------------------------------------------------------------------------------------------------------------------------------------------------------------------------------------------------------------------------------------------------------------------------------------------------------------------------------------------------------------------------------------------------------------------------------------------------------------------------------------------------------------------------------------------------+"
      ]
     },
     "execution_count": 28,
     "metadata": {},
     "output_type": "execute_result"
    }
   ],
   "source": [
    "%%sql\n",
    "\n",
    "SELECT *\n",
    "FROM nyc.permits.snapshots"
   ]
  },
  {
   "cell_type": "code",
   "execution_count": null,
   "id": "1fce2184-831a-47e2-94cc-c4bc356e2e12",
   "metadata": {},
   "outputs": [],
   "source": []
  }
 ],
 "metadata": {
  "kernelspec": {
   "display_name": "Python 3 (ipykernel)",
   "language": "python",
   "name": "python3"
  },
  "language_info": {
   "codemirror_mode": {
    "name": "ipython",
    "version": 3
   },
   "file_extension": ".py",
   "mimetype": "text/x-python",
   "name": "python",
   "nbconvert_exporter": "python",
   "pygments_lexer": "ipython3",
   "version": "3.10.16"
  }
 },
 "nbformat": 4,
 "nbformat_minor": 5
}
